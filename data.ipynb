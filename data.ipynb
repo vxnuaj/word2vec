{
 "cells": [
  {
   "cell_type": "code",
   "execution_count": 24,
   "metadata": {},
   "outputs": [
    {
     "name": "stdout",
     "output_type": "stream",
     "text": [
      "49199\n"
     ]
    }
   ],
   "source": [
    "lines = 0\n",
    "\n",
    "with open('data/train.txt', 'r') as f:\n",
    "\n",
    "    for line in f:\n",
    "\n",
    "        lines += 1\n",
    "\n",
    "print(lines)"
   ]
  },
  {
   "cell_type": "code",
   "execution_count": 25,
   "metadata": {},
   "outputs": [],
   "source": [
    "from collections import Counter\n",
    "\n",
    "with open('data/train.txt', 'r') as f:\n",
    "    lines = f.readlines()\n",
    "\n",
    "words = [word for line in lines for word in line.split()]\n",
    "word_counts = Counter(words)\n",
    "\n",
    "threshold = 10\n",
    "processed_lines = []\n",
    "for line in lines:\n",
    "    processed_words = [\n",
    "        word if word_counts[word] >= threshold else \"<unk>\"\n",
    "        for word in line.split()\n",
    "    ]\n",
    "    processed_lines.append(\" \".join(processed_words))\n",
    "\n",
    "with open('data/trainv2.txt', 'w') as f:\n",
    "    f.writelines([line + '\\n' for line in processed_lines])\n"
   ]
  }
 ],
 "metadata": {
  "kernelspec": {
   "display_name": "base",
   "language": "python",
   "name": "python3"
  },
  "language_info": {
   "codemirror_mode": {
    "name": "ipython",
    "version": 3
   },
   "file_extension": ".py",
   "mimetype": "text/x-python",
   "name": "python",
   "nbconvert_exporter": "python",
   "pygments_lexer": "ipython3",
   "version": "3.12.2"
  }
 },
 "nbformat": 4,
 "nbformat_minor": 2
}
